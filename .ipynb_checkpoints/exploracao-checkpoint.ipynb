{
 "cells": [
  {
   "cell_type": "code",
   "execution_count": 2,
   "id": "e53d5753-5673-4acc-9112-1f321b2d046b",
   "metadata": {},
   "outputs": [],
   "source": [
    "import cv2"
   ]
  },
  {
   "cell_type": "code",
   "execution_count": 3,
   "id": "0d1c7ec0-efca-4555-85b9-ee6bf4ce27eb",
   "metadata": {},
   "outputs": [],
   "source": [
    "image = cv2.imread(\"imgs/CM001/CM001F1.JPG\")"
   ]
  },
  {
   "cell_type": "code",
   "execution_count": 4,
   "id": "427ffb57-1644-4c25-a65e-3faae3ebb3bb",
   "metadata": {},
   "outputs": [],
   "source": [
    "gray = cv2.cvtColor(image, cv2.COLOR_BGR2GRAY)"
   ]
  },
  {
   "cell_type": "code",
   "execution_count": 5,
   "id": "f7ee2840-0bf3-4b1c-ad34-7aad7e2a3e74",
   "metadata": {},
   "outputs": [
    {
     "data": {
      "text/plain": [
       "array([[ 42,  37,  32, ..., 146, 144, 142],\n",
       "       [ 41,  36,  32, ..., 146, 144, 142],\n",
       "       [ 39,  35,  32, ..., 146, 144, 142],\n",
       "       ...,\n",
       "       [ 39,  38,  38, ..., 140, 140, 140],\n",
       "       [ 38,  37,  37, ..., 137, 137, 137],\n",
       "       [ 36,  35,  35, ..., 135, 135, 135]], dtype=uint8)"
      ]
     },
     "execution_count": 5,
     "metadata": {},
     "output_type": "execute_result"
    }
   ],
   "source": [
    "gray"
   ]
  },
  {
   "cell_type": "code",
   "execution_count": null,
   "id": "cb463036-a445-46ad-ac56-84cec585a778",
   "metadata": {},
   "outputs": [],
   "source": [
    "cv2.imshow(\"Faces found\", gray)"
   ]
  },
  {
   "cell_type": "code",
   "execution_count": null,
   "id": "8daada61-252a-4dd7-93c5-ec489ddae112",
   "metadata": {},
   "outputs": [],
   "source": [
    "cv2.waitKey(0)"
   ]
  }
 ],
 "metadata": {
  "kernelspec": {
   "display_name": "Python 3",
   "language": "python",
   "name": "python3"
  },
  "language_info": {
   "codemirror_mode": {
    "name": "ipython",
    "version": 3
   },
   "file_extension": ".py",
   "mimetype": "text/x-python",
   "name": "python",
   "nbconvert_exporter": "python",
   "pygments_lexer": "ipython3",
   "version": "3.8.10"
  }
 },
 "nbformat": 4,
 "nbformat_minor": 5
}
